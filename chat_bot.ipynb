{
  "nbformat": 4,
  "nbformat_minor": 0,
  "metadata": {
    "colab": {
      "provenance": [],
      "authorship_tag": "ABX9TyPOjQM62d2gxh3DlbG1QAiJ",
      "include_colab_link": true
    },
    "kernelspec": {
      "name": "python3",
      "display_name": "Python 3"
    },
    "language_info": {
      "name": "python"
    }
  },
  "cells": [
    {
      "cell_type": "markdown",
      "metadata": {
        "id": "view-in-github",
        "colab_type": "text"
      },
      "source": [
        "<a href=\"https://colab.research.google.com/github/katialagesantos/projeto_imersao_ia/blob/main/chat_bot.ipynb\" target=\"_parent\"><img src=\"https://colab.research.google.com/assets/colab-badge.svg\" alt=\"Open In Colab\"/></a>"
      ]
    },
    {
      "cell_type": "markdown",
      "source": [
        "Instalando o SDK do Google"
      ],
      "metadata": {
        "id": "691zbwlVYmEk"
      }
    },
    {
      "cell_type": "code",
      "execution_count": null,
      "metadata": {
        "id": "J6Pd9SFJ1yVi"
      },
      "outputs": [],
      "source": [
        "!pip install -q -U google-generativeai"
      ]
    },
    {
      "cell_type": "code",
      "source": [
        "# Import the Python SDK\n",
        "import google.generativeai as genai\n",
        "# Used to securely store your API key\n",
        "from google.colab import userdata\n",
        "API_KEY=userdata.get(\"SECRET_KEY\")\n",
        "genai.configure(api_key=API_KEY)"
      ],
      "metadata": {
        "id": "8YDbgcooYzAK"
      },
      "execution_count": 15,
      "outputs": []
    },
    {
      "cell_type": "markdown",
      "source": [
        "Listar os modelos disponíveis"
      ],
      "metadata": {
        "id": "m8fKS4P9Y9BA"
      }
    },
    {
      "cell_type": "code",
      "source": [
        "for m in genai.list_models():\n",
        "  if 'generateContent' in m.supported_generation_methods:\n",
        "    print (m.name)"
      ],
      "metadata": {
        "colab": {
          "base_uri": "https://localhost:8080/",
          "height": 139
        },
        "id": "8pe5I5S7ZixM",
        "outputId": "9257adbe-44ff-4ca7-8b1b-653eeefcf4fd"
      },
      "execution_count": 16,
      "outputs": [
        {
          "output_type": "stream",
          "name": "stdout",
          "text": [
            "models/gemini-1.0-pro\n",
            "models/gemini-1.0-pro-001\n",
            "models/gemini-1.0-pro-latest\n",
            "models/gemini-1.0-pro-vision-latest\n",
            "models/gemini-1.5-pro-latest\n",
            "models/gemini-pro\n",
            "models/gemini-pro-vision\n"
          ]
        }
      ]
    },
    {
      "cell_type": "markdown",
      "source": [
        "Trabalhando com parametros"
      ],
      "metadata": {
        "id": "HH7PMMdPbH8V"
      }
    },
    {
      "cell_type": "code",
      "source": [
        "generation_config = {\n",
        "    \"candidate_count\":1,\n",
        "    \"temperature\":0.5\n",
        "}"
      ],
      "metadata": {
        "id": "TLDb_4xYbM5M"
      },
      "execution_count": 17,
      "outputs": []
    },
    {
      "cell_type": "code",
      "source": [
        "safety_settings = {\"HARASSMENT\":\"BLOCK_NONE\",\n",
        "                   \"HATE\": \"BLOCK_NONE\",\n",
        "                   \"SEXUAL\":\"BLOCK_NONE\",\n",
        "                   \"DANGEROUS\":\"BLOCK_NONE\",}"
      ],
      "metadata": {
        "id": "v2-JDe0BbwDI"
      },
      "execution_count": 18,
      "outputs": []
    },
    {
      "cell_type": "markdown",
      "source": [
        "Inicializando o modelo"
      ],
      "metadata": {
        "id": "A0LaDGcEcvpA"
      }
    },
    {
      "cell_type": "code",
      "source": [
        "model = genai.GenerativeModel(model_name=\"gemini-1.0-pro\",\n",
        "                              generation_config=generation_config,\n",
        "                              safety_settings=safety_settings);"
      ],
      "metadata": {
        "id": "mqPA30n4czQ7"
      },
      "execution_count": 19,
      "outputs": []
    },
    {
      "cell_type": "markdown",
      "source": [
        "Comecar a gerar algum conteudo com esse modelo"
      ],
      "metadata": {
        "id": "uzObetbBd4By"
      }
    },
    {
      "cell_type": "code",
      "source": [
        "response = model.generate_content(\"Vamos aprender conteúdo sobre IA. Me dê sugestões.\")\n",
        "print(response.text)"
      ],
      "metadata": {
        "colab": {
          "base_uri": "https://localhost:8080/",
          "height": 694
        },
        "id": "efN2NCHBd8bF",
        "outputId": "54593e6d-b764-4987-ad13-457c0eb08624"
      },
      "execution_count": 20,
      "outputs": [
        {
          "output_type": "stream",
          "name": "stdout",
          "text": [
            "**Conceitos Fundamentais**\n",
            "\n",
            "* O que é Inteligência Artificial (IA)\n",
            "* Tipos de IA: aprendizado de máquina, aprendizado profundo, processamento de linguagem natural\n",
            "* Algoritmos de IA: redes neurais, árvores de decisão, máquinas de vetores de suporte\n",
            "* Aplicações de IA: saúde, finanças, varejo, manufatura\n",
            "\n",
            "**Aprendizado de Máquina**\n",
            "\n",
            "* Conceitos de aprendizado de máquina: supervisão, não supervisão, reforço\n",
            "* Modelos de aprendizado de máquina: regressão linear, classificação logística, agrupamento\n",
            "* Avaliação de modelos de aprendizado de máquina: precisão, recall, F1-score\n",
            "* Técnicas de aprendizado de máquina avançadas: aprendizado profundo, redes neurais convolucionais\n",
            "\n",
            "**Processamento de Linguagem Natural**\n",
            "\n",
            "* Conceitos de processamento de linguagem natural (PNL): tokenização, análise sintática, semântica\n",
            "* Modelos de PNL: modelos de linguagem, incorporações de palavras, redes neurais recorrentes\n",
            "* Aplicações de PNL: tradução automática, reconhecimento de fala, chatbots\n",
            "\n",
            "**IA Ética e Implicações Sociais**\n",
            "\n",
            "* Implicações éticas da IA: viés, privacidade, responsabilidade\n",
            "* Impactos sociais da IA: automação de empregos, desigualdade, segurança\n",
            "* Diretrizes e regulamentações éticas para IA\n",
            "\n",
            "**Recursos de Aprendizado**\n",
            "\n",
            "* Cursos online: Coursera, edX, Udacity\n",
            "* Livros: \"IA para Todos\" de Pedro Domingos, \"Aprendizado de Máquina\" de Tom Mitchell\n",
            "* Comunidades online: Reddit, Stack Overflow, GitHub\n",
            "* Conferências e workshops: NeurIPS, ICML, CVPR\n",
            "\n",
            "**Aplicações Práticas**\n",
            "\n",
            "* Construa um chatbot usando PNL\n",
            "* Treine um modelo de aprendizado de máquina para prever vendas\n",
            "* Use IA para analisar dados de saúde e melhorar os resultados dos pacientes\n",
            "* Explore as aplicações de IA em sua indústria ou área de interesse\n"
          ]
        }
      ]
    },
    {
      "cell_type": "markdown",
      "source": [
        "Criar o nosso chat - como uma conversa"
      ],
      "metadata": {
        "id": "QbrYnXreeyng"
      }
    },
    {
      "cell_type": "code",
      "source": [
        "chat = model.start_chat(history=[])"
      ],
      "metadata": {
        "id": "9aS4FD4Ce1l2"
      },
      "execution_count": 21,
      "outputs": []
    },
    {
      "cell_type": "markdown",
      "source": [
        "Campo de texto para entrade de dados"
      ],
      "metadata": {
        "id": "MPo6ml2tfTh_"
      }
    },
    {
      "cell_type": "code",
      "source": [
        "prompt = input(\"Esperando prompt:\")\n",
        "\n",
        "while prompt != \"fim\":\n",
        "  response  = chat.send_message(prompt)\n",
        "  print(\"Resposta: \", response.text, \"\\n\")\n",
        "  prompt = input(\"Esperando prompt:\")"
      ],
      "metadata": {
        "colab": {
          "base_uri": "https://localhost:8080/"
        },
        "id": "FHoOMYR9fV7D",
        "outputId": "6963429c-c99b-4532-9196-e5a14977ce7c"
      },
      "execution_count": 23,
      "outputs": [
        {
          "name": "stdout",
          "output_type": "stream",
          "text": [
            "Esperando prompt:fim\n"
          ]
        }
      ]
    },
    {
      "cell_type": "markdown",
      "source": [
        "Ver o conteudo do historico"
      ],
      "metadata": {
        "id": "osPAGeBohg1C"
      }
    },
    {
      "cell_type": "code",
      "source": [
        "chat.history"
      ],
      "metadata": {
        "id": "srcgMgUehf4M"
      },
      "execution_count": null,
      "outputs": []
    },
    {
      "cell_type": "markdown",
      "source": [
        "codigo disponibilizado pela Alura pra melhorar a visualizacao"
      ],
      "metadata": {
        "id": "XxI4U3pIhyj3"
      }
    },
    {
      "cell_type": "code",
      "source": [],
      "metadata": {
        "id": "jC2eb9Rwh3KX"
      },
      "execution_count": null,
      "outputs": []
    },
    {
      "cell_type": "code",
      "execution_count": null,
      "metadata": {
        "id": "dAcbPBocgzeX",
        "colab": {
          "base_uri": "https://localhost:8080/",
          "height": 519
        },
        "outputId": "87d25607-e525-44ca-aa4e-221e313bd2c0"
      },
      "outputs": [
        {
          "output_type": "display_data",
          "data": {
            "text/plain": [
              "<IPython.core.display.Markdown object>"
            ],
            "text/markdown": "> **user**: qual a capital do Japao?"
          },
          "metadata": {}
        },
        {
          "output_type": "stream",
          "name": "stdout",
          "text": [
            "-------------------------------------------\n"
          ]
        },
        {
          "output_type": "display_data",
          "data": {
            "text/plain": [
              "<IPython.core.display.Markdown object>"
            ],
            "text/markdown": "> **model**: Tóquio"
          },
          "metadata": {}
        },
        {
          "output_type": "stream",
          "name": "stdout",
          "text": [
            "-------------------------------------------\n"
          ]
        },
        {
          "output_type": "display_data",
          "data": {
            "text/plain": [
              "<IPython.core.display.Markdown object>"
            ],
            "text/markdown": "> **user**: qual e a comida tipica desse pais?"
          },
          "metadata": {}
        },
        {
          "output_type": "stream",
          "name": "stdout",
          "text": [
            "-------------------------------------------\n"
          ]
        },
        {
          "output_type": "display_data",
          "data": {
            "text/plain": [
              "<IPython.core.display.Markdown object>"
            ],
            "text/markdown": "> **model**: Sushi"
          },
          "metadata": {}
        },
        {
          "output_type": "stream",
          "name": "stdout",
          "text": [
            "-------------------------------------------\n"
          ]
        },
        {
          "output_type": "display_data",
          "data": {
            "text/plain": [
              "<IPython.core.display.Markdown object>"
            ],
            "text/markdown": "> **user**: O meu primo nasceu nessa cidade. Qual e a nacionalidade dele?"
          },
          "metadata": {}
        },
        {
          "output_type": "stream",
          "name": "stdout",
          "text": [
            "-------------------------------------------\n"
          ]
        },
        {
          "output_type": "display_data",
          "data": {
            "text/plain": [
              "<IPython.core.display.Markdown object>"
            ],
            "text/markdown": "> **model**: Japonês"
          },
          "metadata": {}
        },
        {
          "output_type": "stream",
          "name": "stdout",
          "text": [
            "-------------------------------------------\n"
          ]
        },
        {
          "output_type": "display_data",
          "data": {
            "text/plain": [
              "<IPython.core.display.Markdown object>"
            ],
            "text/markdown": "> **user**: QUal e a populacao dessa cidade?"
          },
          "metadata": {}
        },
        {
          "output_type": "stream",
          "name": "stdout",
          "text": [
            "-------------------------------------------\n"
          ]
        },
        {
          "output_type": "display_data",
          "data": {
            "text/plain": [
              "<IPython.core.display.Markdown object>"
            ],
            "text/markdown": "> **model**: Tóquio tem uma população estimada em 13.960.346 habitantes (2023)."
          },
          "metadata": {}
        },
        {
          "output_type": "stream",
          "name": "stdout",
          "text": [
            "-------------------------------------------\n"
          ]
        }
      ],
      "source": [
        "#Melhorando a visualização\n",
        "#Código disponível em https://ai.google.dev/tutorials/python_quickstart#import_packages\n",
        "import textwrap\n",
        "from IPython.display import display\n",
        "from IPython.display import Markdown\n",
        "\n",
        "def to_markdown(text):\n",
        "  text = text.replace('•', '  *')\n",
        "  return Markdown(textwrap.indent(text, '> ', predicate=lambda _: True))\n",
        "\n",
        "#Imprimindo o histórico\n",
        "for message in chat.history:\n",
        "  display(to_markdown(f'**{message.role}**: {message.parts[0].text}'))\n",
        "  print('-------------------------------------------')"
      ]
    }
  ]
}